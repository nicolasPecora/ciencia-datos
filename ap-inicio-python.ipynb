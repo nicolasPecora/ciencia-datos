{
 "cells": [
  {
   "cell_type": "markdown",
   "id": "a8c92ce9",
   "metadata": {},
   "source": [
    "<div class=\"alert alert-info text-center\">\n",
    "<h3>Argentina Programa 4.0 Apunte de clase.<h3>"
   ]
  },
  {
   "cell_type": "markdown",
   "id": "0a4b14fc",
   "metadata": {},
   "source": [
    "## Esto es un titulo"
   ]
  },
  {
   "cell_type": "markdown",
   "id": "892be510",
   "metadata": {},
   "source": [
    "**Esto es negrita**\n",
    "<br>\n",
    "*Este es Texto Inclinado.*\n",
    "<br>\n",
    "***Negrita Inclinado***\n",
    "<br>\n",
    "Lista desondenada.\n",
    "<br>\n",
    "* Opción 1\n",
    "* Opción 2\n",
    "* Opción 3\n",
    "<br><br>\n",
    "Lista Ordenada.\n",
    "1. Opción\n",
    "2. Opción\n",
    "3. Opción"
   ]
  },
  {
   "cell_type": "code",
   "execution_count": 1,
   "id": "55ad9f8a",
   "metadata": {},
   "outputs": [
    {
     "name": "stdout",
     "output_type": "stream",
     "text": [
      "Hola Mundo\n"
     ]
    }
   ],
   "source": [
    "# Esto es un comentario\n",
    "print(\"Hola Mundo\")"
   ]
  },
  {
   "cell_type": "markdown",
   "id": "7f72d93b",
   "metadata": {},
   "source": [
    "### Uso de Variables\n"
   ]
  },
  {
   "cell_type": "code",
   "execution_count": 2,
   "id": "8ea6b099",
   "metadata": {},
   "outputs": [
    {
     "name": "stdout",
     "output_type": "stream",
     "text": [
      "56\n"
     ]
    }
   ],
   "source": [
    "# Las variables aceptan todo tipo de dato.\n",
    "# Declarar una variable es crearla y asignarle un valor.\n",
    "\n",
    "#Declaro un par de variables.\n",
    "var1 = 56\n",
    "var2 = 'Esto es un texto'\n",
    "print(var1)"
   ]
  },
  {
   "cell_type": "code",
   "execution_count": 3,
   "id": "53b21006",
   "metadata": {},
   "outputs": [
    {
     "name": "stdout",
     "output_type": "stream",
     "text": [
      "Esto es un texto\n",
      "45\n"
     ]
    }
   ],
   "source": [
    "print(var2)\n",
    "var2 = 45\n",
    "print(var2)"
   ]
  },
  {
   "cell_type": "code",
   "execution_count": 4,
   "id": "e8a486f1",
   "metadata": {},
   "outputs": [
    {
     "name": "stdout",
     "output_type": "stream",
     "text": [
      "45\n",
      "50\n"
     ]
    }
   ],
   "source": [
    "# Le puedo asignar a una variable el contenido de otra variable\n",
    "var3 = var2\n",
    "print(var2)\n",
    "print(var2+5)"
   ]
  },
  {
   "cell_type": "code",
   "execution_count": 5,
   "id": "db1ab230",
   "metadata": {},
   "outputs": [
    {
     "name": "stdout",
     "output_type": "stream",
     "text": [
      "12 mate 33\n"
     ]
    }
   ],
   "source": [
    "# Asignacion de valores en linea\n",
    "\n",
    "# Opcion1\n",
    "valor1, valor2, valor3 = 12,'mate',33\n",
    "print(valor1,valor2,valor3)"
   ]
  },
  {
   "cell_type": "code",
   "execution_count": 8,
   "id": "b76e3ae8",
   "metadata": {},
   "outputs": [
    {
     "name": "stdout",
     "output_type": "stream",
     "text": [
      "Hola mundo\n",
      "Hola mundo\n",
      "Hola mundo\n"
     ]
    }
   ],
   "source": [
    "# Opcion 2\n",
    "valor1 = valor2 = valor3 = 'Hola mundo'\n",
    "print(valor1)\n",
    "print(valor2)\n",
    "print(valor3)"
   ]
  },
  {
   "cell_type": "markdown",
   "id": "3ab47c26",
   "metadata": {},
   "source": [
    "### Funcion TYPE\n"
   ]
  },
  {
   "cell_type": "code",
   "execution_count": 9,
   "id": "231fbc36",
   "metadata": {},
   "outputs": [],
   "source": [
    "# Esta función me devuelve el tipo de dato con el que estoy trabajando\n",
    "a = 12\n",
    "b = 34.6\n",
    "c = 'Buen día'"
   ]
  },
  {
   "cell_type": "code",
   "execution_count": 10,
   "id": "decc0321",
   "metadata": {},
   "outputs": [
    {
     "name": "stdout",
     "output_type": "stream",
     "text": [
      "<class 'int'>\n",
      "<class 'float'>\n",
      "<class 'str'>\n"
     ]
    }
   ],
   "source": [
    "print(type(a))\n",
    "print(type(b))\n",
    "print(type(c))"
   ]
  },
  {
   "cell_type": "markdown",
   "id": "11d561c1",
   "metadata": {},
   "source": [
    "***Tipo De Datos***\n",
    "<br>\n",
    "* Numéricos\n",
    "* Secuenciales\n",
    "* Mapeo\n",
    "* Colecciones\n",
    "* Texto\n",
    "* Booleanos\n"
   ]
  },
  {
   "cell_type": "code",
   "execution_count": 11,
   "id": "6b31a545",
   "metadata": {},
   "outputs": [
    {
     "name": "stdout",
     "output_type": "stream",
     "text": [
      "<class 'float'>\n"
     ]
    }
   ],
   "source": [
    "# Arrastre de tipo de dato\n",
    "a = 12.6\n",
    "b = 2.4\n",
    "print(type(a+b))"
   ]
  },
  {
   "cell_type": "code",
   "execution_count": 12,
   "id": "2d9e090c",
   "metadata": {},
   "outputs": [
    {
     "name": "stdout",
     "output_type": "stream",
     "text": [
      "(2+5j)\n",
      "<class 'complex'>\n"
     ]
    }
   ],
   "source": [
    "# Complejos\n",
    "d= 2 + 5j\n",
    "print(d)\n",
    "print(type(d))"
   ]
  },
  {
   "cell_type": "code",
   "execution_count": 13,
   "id": "56992e7a",
   "metadata": {},
   "outputs": [
    {
     "name": "stdout",
     "output_type": "stream",
     "text": [
      "La parte entera del complejo es:  2.0\n"
     ]
    }
   ],
   "source": [
    "# Metodo de un dato complejo\n",
    "a = d.real\n",
    "print('La parte entera del complejo es: ',a)"
   ]
  },
  {
   "cell_type": "code",
   "execution_count": 15,
   "id": "9816573a",
   "metadata": {},
   "outputs": [
    {
     "name": "stdout",
     "output_type": "stream",
     "text": [
      "La parte imaginaria del complejo es:  5.0\n"
     ]
    }
   ],
   "source": [
    "b = d.imag\n",
    "print('La parte imaginaria del complejo es: ',b)"
   ]
  },
  {
   "cell_type": "markdown",
   "id": "b5ce2cdc",
   "metadata": {},
   "source": [
    "### Conversión del tipo de datos"
   ]
  },
  {
   "cell_type": "markdown",
   "id": "fb1eafe6",
   "metadata": {},
   "source": [
    "* int()\n",
    "* float()\n",
    "* complex()\n",
    "* list()\n",
    "* str()\n"
   ]
  },
  {
   "cell_type": "code",
   "execution_count": 18,
   "id": "2290c1f7",
   "metadata": {},
   "outputs": [
    {
     "name": "stdout",
     "output_type": "stream",
     "text": [
      "4\n",
      "<class 'int'>\n",
      "4.0\n",
      "4.0\n",
      "<class 'float'>\n"
     ]
    }
   ],
   "source": [
    "# Ejemplo de conversion de tipo\n",
    "a = 4\n",
    "print(a)\n",
    "print(type(a))\n",
    "\n",
    "# Cambio el formato solo para la salida por pantalla\n",
    "print(float(a))\n",
    "\n",
    "#Puedo modificar el  tipo directamente sobre la variable\n",
    "a = float(a)\n",
    "\n",
    "print(a)\n",
    "print(type(a))"
   ]
  },
  {
   "cell_type": "markdown",
   "id": "8657327c",
   "metadata": {},
   "source": [
    "### Operadores"
   ]
  },
  {
   "cell_type": "markdown",
   "id": "f7217a08",
   "metadata": {},
   "source": [
    "* Suma (+)\n",
    "* Resta(-)\n",
    "* Negativo(-)\n",
    "* Multiplicación (*)\n",
    "* Exponente (**)\n",
    "* División (/)\n",
    "* Division entera(//)\n",
    "* Resto de la division(%)\n",
    "* Operador de asignación(=)"
   ]
  },
  {
   "cell_type": "code",
   "execution_count": 1,
   "id": "d8c4702e",
   "metadata": {},
   "outputs": [],
   "source": [
    "# Ejemplo de uso de operadores\n",
    "# Declaro mis variables\n",
    "v1 = 15\n",
    "v2 = 7"
   ]
  },
  {
   "cell_type": "code",
   "execution_count": 5,
   "id": "1ae1c798",
   "metadata": {},
   "outputs": [
    {
     "name": "stdout",
     "output_type": "stream",
     "text": [
      "22\n"
     ]
    }
   ],
   "source": [
    "# Suma\n",
    "suma = (v1 + v2)\n",
    "print(suma)"
   ]
  },
  {
   "cell_type": "code",
   "execution_count": 6,
   "id": "5946dac7",
   "metadata": {},
   "outputs": [
    {
     "name": "stdout",
     "output_type": "stream",
     "text": [
      "0\n"
     ]
    }
   ],
   "source": [
    "# Resto de la división\n",
    "a = 12\n",
    "resto = a % 2\n",
    "print(resto)"
   ]
  },
  {
   "cell_type": "markdown",
   "id": "edfc0a46",
   "metadata": {},
   "source": [
    "***Operadores relacionales***"
   ]
  },
  {
   "cell_type": "markdown",
   "id": "84c913fc",
   "metadata": {},
   "source": [
    "* Igual que (==)\n",
    "* Distinto que(!=)\n",
    "* Menos que (<)\n",
    "* Mayor que (>)\n",
    "* Menor o igual (<=)\n",
    "* Mayor o igual (>=)"
   ]
  },
  {
   "cell_type": "code",
   "execution_count": 10,
   "id": "beed9c17",
   "metadata": {},
   "outputs": [
    {
     "name": "stdout",
     "output_type": "stream",
     "text": [
      "True\n"
     ]
    }
   ],
   "source": [
    "# Igual que\n",
    "a = 3\n",
    "b = 3\n",
    "print(a==b)"
   ]
  },
  {
   "cell_type": "code",
   "execution_count": 11,
   "id": "825b73c6",
   "metadata": {},
   "outputs": [
    {
     "name": "stdout",
     "output_type": "stream",
     "text": [
      "True\n"
     ]
    }
   ],
   "source": [
    "# Distinto que\n",
    "c = 'rojo'\n",
    "d = 'verde'\n",
    "print(c != d)"
   ]
  },
  {
   "cell_type": "markdown",
   "id": "f065e5b5",
   "metadata": {},
   "source": [
    "***Operadores lógicos***"
   ]
  },
  {
   "cell_type": "markdown",
   "id": "8b0f3405",
   "metadata": {},
   "source": [
    "* and\n",
    "* or \n",
    "* not"
   ]
  },
  {
   "cell_type": "code",
   "execution_count": 21,
   "id": "6c1408ee",
   "metadata": {},
   "outputs": [
    {
     "name": "stdout",
     "output_type": "stream",
     "text": [
      "Bienvenido Nicolás a la clase casa Python\n",
      "Bienvenido casa a la clase Nicolás Python\n",
      "Bienvenido Nicolás a la clase Nicolás Python\n"
     ]
    }
   ],
   "source": [
    "# Metodo format\n",
    "nombre = 'Nicolás'\n",
    "print('Bienvenido {} a la clase {} Python'.format(nombre, 'casa'))\n",
    "print('Bienvenido {1} a la clase {0} Python'.format(nombre, 'casa'))\n",
    "print(f'Bienvenido {nombre} a la clase {nombre} Python')"
   ]
  },
  {
   "cell_type": "code",
   "execution_count": 22,
   "id": "8895e5ca",
   "metadata": {},
   "outputs": [
    {
     "name": "stdout",
     "output_type": "stream",
     "text": [
      "and es verdadero si y solo si, ambas expresiones son verdaderas:False\n",
      "and es verdadero si y solo si, ambas expresiones son verdaderas:True\n"
     ]
    }
   ],
   "source": [
    "# And\n",
    "a = 3\n",
    "b = 10\n",
    "print('and es verdadero si y solo si, ambas expresiones son verdaderas:{}'.format(a==4 and b==10))\n",
    "print('and es verdadero si y solo si, ambas expresiones son verdaderas:{}'.format(a==3 and b==10))"
   ]
  },
  {
   "cell_type": "code",
   "execution_count": 23,
   "id": "2e001504",
   "metadata": {},
   "outputs": [
    {
     "name": "stdout",
     "output_type": "stream",
     "text": [
      "OR es Veradero si al menos unas de las expresiomes, es verdadera: True\n",
      "OR es Veradero si al menos unas de las expresiomes, es verdadera: False\n"
     ]
    }
   ],
   "source": [
    "# Or\n",
    "print('OR es Veradero si al menos unas de las expresiomes, es verdadera: {}'.format(a==4 or b==10))\n",
    "print('OR es Veradero si al menos unas de las expresiomes, es verdadera: {}'.format(a==4 or b==1))"
   ]
  },
  {
   "cell_type": "code",
   "execution_count": 24,
   "id": "8bddea77",
   "metadata": {},
   "outputs": [
    {
     "name": "stdout",
     "output_type": "stream",
     "text": [
      "not modifica el valor booleano de una expresion:False\n",
      "not modifica el valor booleano de una expresion:True\n"
     ]
    }
   ],
   "source": [
    "# Not\n",
    "g = 2\n",
    "print(\"not modifica el valor booleano de una expresion:{}\".format(not g==2))\n",
    "print(\"not modifica el valor booleano de una expresion:{}\".format(not g==3))"
   ]
  },
  {
   "cell_type": "code",
   "execution_count": 26,
   "id": "a0f2f5f5",
   "metadata": {},
   "outputs": [
    {
     "name": "stdout",
     "output_type": "stream",
     "text": [
      "True\n",
      "False\n"
     ]
    }
   ],
   "source": [
    "# Ejemplo and con 3 expresiones:\n",
    "a = 3\n",
    "b = 4\n",
    "c = 5\n",
    "print((a==3 and b == 4 and c == 5) or c ==5)\n",
    "print((a==3 and b == 4 and c == 4) or c ==3)"
   ]
  },
  {
   "cell_type": "markdown",
   "id": "bb2878b3",
   "metadata": {},
   "source": [
    "### Ingreso de datos por teclado"
   ]
  },
  {
   "cell_type": "markdown",
   "id": "c9f2b9fc",
   "metadata": {},
   "source": [
    "#### Para el ingreso de datos por teclado utilizamos la funcion INPUT"
   ]
  },
  {
   "cell_type": "code",
   "execution_count": 28,
   "id": "639bda71",
   "metadata": {},
   "outputs": [
    {
     "name": "stdout",
     "output_type": "stream",
     "text": [
      "Por favor ingrese un valor numerico: 34\n",
      "el valor ingresado por teclado es: 34\n",
      "<class 'int'>\n"
     ]
    }
   ],
   "source": [
    "# Pedimos ingresar un valor numerico\n",
    "a = int(input('Por favor ingrese un valor numerico: '))\n",
    "print('el valor ingresado por teclado es: {}'.format(a))\n",
    "print(type(a))"
   ]
  },
  {
   "cell_type": "markdown",
   "id": "4f8f4e8a",
   "metadata": {},
   "source": [
    "Ejercicio propuesto: Escribir un programa que solicite al usuario el valor del radio de un circulo y calcular la superficie. Mostrar el resultado por pantalla."
   ]
  },
  {
   "cell_type": "code",
   "execution_count": 47,
   "id": "97ae8cae",
   "metadata": {},
   "outputs": [
    {
     "name": "stdout",
     "output_type": "stream",
     "text": [
      "Ingrese valor del radio del circulo: 3\n",
      "La superficie del circulo es: 28.274333882308138\n"
     ]
    }
   ],
   "source": [
    "import math\n",
    "entrada = float(input ('Ingrese valor del radio del circulo: '))\n",
    "print('La superficie del circulo es: {}'.format(math.pi * (entrada**2)))"
   ]
  },
  {
   "cell_type": "markdown",
   "id": "c96f7a12",
   "metadata": {},
   "source": [
    "### Listas\n"
   ]
  },
  {
   "cell_type": "code",
   "execution_count": 49,
   "id": "79b6324b",
   "metadata": {},
   "outputs": [
    {
     "name": "stdout",
     "output_type": "stream",
     "text": [
      "[1, 3, 4, 5, 6]\n",
      "<class 'list'>\n"
     ]
    }
   ],
   "source": [
    "#Las listas me permiten almacenar diferentes tipos de datos bajo un mismo identificador.\n",
    "#Cada valor almacenado, se denomina elemento. Debem ir separadas por coma.\n",
    "#Cada elemento esta asociado a un indice\n",
    "a = [1,3,4,5,6]\n",
    "print(a)\n",
    "print (type(a))"
   ]
  },
  {
   "cell_type": "code",
   "execution_count": 50,
   "id": "9c6eb0a7",
   "metadata": {},
   "outputs": [
    {
     "name": "stdout",
     "output_type": "stream",
     "text": [
      "[1, 3, 4, 'casa', [5, 6]]\n"
     ]
    }
   ],
   "source": [
    "# Las listas pueden contener elementos de diferentes tipos\n",
    "a = [1,3,4,'casa',[5,6]]\n",
    "print(a)"
   ]
  },
  {
   "cell_type": "code",
   "execution_count": 51,
   "id": "3a8db1dc",
   "metadata": {},
   "outputs": [
    {
     "name": "stdout",
     "output_type": "stream",
     "text": [
      "6\n"
     ]
    }
   ],
   "source": [
    "print(a[4][1])\n"
   ]
  },
  {
   "cell_type": "markdown",
   "id": "d3dba634",
   "metadata": {},
   "source": [
    "#### Función len"
   ]
  },
  {
   "cell_type": "code",
   "execution_count": 54,
   "id": "fd931a44",
   "metadata": {},
   "outputs": [
    {
     "name": "stdout",
     "output_type": "stream",
     "text": [
      "la lista tiene 5 elementos\n"
     ]
    }
   ],
   "source": [
    "# Me permite conocer la longituda de un conjunto de elementos.\n",
    "print(f\"la lista tiene {len(a)} elementos\")"
   ]
  },
  {
   "cell_type": "code",
   "execution_count": 55,
   "id": "c0c442a2",
   "metadata": {},
   "outputs": [
    {
     "name": "stdout",
     "output_type": "stream",
     "text": [
      "el rango de la lista va desde 0 hasta 4\n"
     ]
    }
   ],
   "source": [
    "print('el rango de la lista va desde {} hasta {}'.format(0, len(a)-1))"
   ]
  },
  {
   "cell_type": "code",
   "execution_count": 57,
   "id": "25b99467",
   "metadata": {},
   "outputs": [
    {
     "name": "stdout",
     "output_type": "stream",
     "text": [
      "16\n",
      "a\n"
     ]
    }
   ],
   "source": [
    "# puede el len sacar la longitud de una cadena de caracteres. Las cadena de texto estan indexadas\n",
    "texto = \"Hola juan carlos\"\n",
    "print(len(texto))\n",
    "print(texto[3])"
   ]
  },
  {
   "cell_type": "markdown",
   "id": "36d0692d",
   "metadata": {},
   "source": [
    "### Metodo de las listas"
   ]
  },
  {
   "cell_type": "code",
   "execution_count": 58,
   "id": "0ad23129",
   "metadata": {},
   "outputs": [
    {
     "name": "stdout",
     "output_type": "stream",
     "text": [
      "[1, 3, 4, 'casa', [5, 6]]\n",
      "[1, 3, 4, 'casa', [5, 6], 'juan carlos']\n"
     ]
    }
   ],
   "source": [
    "# Metodo append\n",
    "# Agrega un elemento al final de la lista.\n",
    "print(a)\n",
    "a.append('juan carlos')\n",
    "print(a)"
   ]
  },
  {
   "cell_type": "code",
   "execution_count": 60,
   "id": "54c44789",
   "metadata": {},
   "outputs": [
    {
     "name": "stdout",
     "output_type": "stream",
     "text": [
      "1\n",
      "2\n"
     ]
    }
   ],
   "source": [
    "# Metodo COUNT\n",
    "# Me dice cuantas veces aparece el elemento en la lista\n",
    "print(a.count(1))\n",
    "a.append(1)\n",
    "print(a.count(1))"
   ]
  },
  {
   "cell_type": "code",
   "execution_count": 62,
   "id": "26bcd264",
   "metadata": {},
   "outputs": [
    {
     "name": "stdout",
     "output_type": "stream",
     "text": [
      "1\n"
     ]
    }
   ],
   "source": [
    "#Metodo INDEX\n",
    "#Devuelve el indice que tiene determinado elemento\n",
    "#en caso de estar repetido, me devuelve el indice de la primer incidencia\n",
    "print(a.index(3))"
   ]
  },
  {
   "cell_type": "code",
   "execution_count": 63,
   "id": "95e0954b",
   "metadata": {},
   "outputs": [
    {
     "name": "stdout",
     "output_type": "stream",
     "text": [
      "[1, 3, 4, 'casa', [5, 6], 'juan carlos', 1]\n",
      "[1, 3, 4, 'casa', [5, 6], 'Hola', 'juan carlos', 1]\n"
     ]
    }
   ],
   "source": [
    "#Metodo INSERT\n",
    "#Permite insertar un nuevo elemento en una determinada posición\n",
    "print(a)\n",
    "a.insert(5, 'Hola')\n",
    "print(a)"
   ]
  },
  {
   "cell_type": "code",
   "execution_count": 65,
   "id": "718143b7",
   "metadata": {},
   "outputs": [
    {
     "name": "stdout",
     "output_type": "stream",
     "text": [
      "[1, 3, 4, 'casa', [5, 6], 'Hola', 'juan carlos', 1]\n",
      "[1, 3, 4, 'casa', [5, 6], 'Hola', 'juan carlos']\n"
     ]
    }
   ],
   "source": [
    "# Metodo POP\n",
    "# Elimina el ultimo elemento\n",
    "print(a)\n",
    "a.pop()\n",
    "print(a)"
   ]
  },
  {
   "cell_type": "code",
   "execution_count": 66,
   "id": "885028d6",
   "metadata": {},
   "outputs": [
    {
     "name": "stdout",
     "output_type": "stream",
     "text": [
      "[1, 3, 4, 'casa', [5, 6], 'Hola', 'juan carlos']\n",
      "[1, 4, 'casa', [5, 6], 'Hola', 'juan carlos']\n"
     ]
    }
   ],
   "source": [
    "# Metodo REMOVE\n",
    "print(a)\n",
    "a.remove(3)\n",
    "print(a)"
   ]
  },
  {
   "cell_type": "code",
   "execution_count": 71,
   "id": "4f75fec5",
   "metadata": {},
   "outputs": [
    {
     "name": "stdout",
     "output_type": "stream",
     "text": [
      "[9, 8, 7, 6, 5, 4, 3, 2, 1]\n",
      "[1, 2, 3, 4, 5, 6, 7, 8, 9]\n"
     ]
    }
   ],
   "source": [
    "#Metodo REVERSE\n",
    "#Invierte el orden de los elementos de la lista\n",
    "a = [1,2,3,4,5,6,7,8,9]\n",
    "a.reverse()\n",
    "print(a)\n",
    "a.reverse()\n",
    "print(a)"
   ]
  },
  {
   "cell_type": "code",
   "execution_count": 72,
   "id": "2215af4d",
   "metadata": {},
   "outputs": [
    {
     "name": "stdout",
     "output_type": "stream",
     "text": [
      "[23, 6, 0, 12, 33, 8]\n",
      "[0, 6, 8, 12, 23, 33]\n"
     ]
    }
   ],
   "source": [
    "# Metodo SORT\n",
    "#Ordena los elemntos de una lista\n",
    "lista = [23,6,0,12,33,8]\n",
    "print(lista)\n",
    "\n",
    "#Ordenamos de menor a mayor\n",
    "lista.sort()\n",
    "print(lista)\n",
    "\n"
   ]
  },
  {
   "cell_type": "code",
   "execution_count": null,
   "id": "9007d69f",
   "metadata": {},
   "outputs": [],
   "source": []
  }
 ],
 "metadata": {
  "kernelspec": {
   "display_name": "Python 3 (ipykernel)",
   "language": "python",
   "name": "python3"
  },
  "language_info": {
   "codemirror_mode": {
    "name": "ipython",
    "version": 3
   },
   "file_extension": ".py",
   "mimetype": "text/x-python",
   "name": "python",
   "nbconvert_exporter": "python",
   "pygments_lexer": "ipython3",
   "version": "3.10.9"
  }
 },
 "nbformat": 4,
 "nbformat_minor": 5
}
