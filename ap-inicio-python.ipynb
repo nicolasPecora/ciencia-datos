{
 "cells": [
  {
   "cell_type": "markdown",
   "id": "3ab0c9fc",
   "metadata": {},
   "source": [
    "<div class=\"alert alert-info text-left\">\n",
    "    <h3>Argentina Programa 4-0 - Apunte de clase</h3>\n",
    "</div>"
   ]
  },
  {
   "cell_type": "markdown",
   "id": "96e20b45",
   "metadata": {},
   "source": [
    "## Esto es un título."
   ]
  },
  {
   "cell_type": "markdown",
   "id": "0ed44d11",
   "metadata": {},
   "source": [
    "**Este es un texto en Negrita**\n",
    "<br>\n",
    "*Ejemplo de texto inclinado.*\n",
    "<br>\n",
    "***Puedo combinar texto en Negrita con texto inclinado***\n",
    "<br><br>\n",
    "Lista desordenada\n",
    "* Opción 1\n",
    "* Opción 2\n",
    "* Opción 3\n",
    "<br><br>\n",
    "Lista ordenada\n",
    "1. Ítem A\n",
    "2. Ítem B\n",
    "3. Ítem C"
   ]
  },
  {
   "cell_type": "code",
   "execution_count": null,
   "id": "5e728c55",
   "metadata": {},
   "outputs": [],
   "source": [
    "# Esto es un comentario.\n",
    "print('Hola Mundo')"
   ]
  },
  {
   "cell_type": "markdown",
   "id": "d05af16e",
   "metadata": {},
   "source": [
    "#### Uso de variables"
   ]
  },
  {
   "cell_type": "code",
   "execution_count": null,
   "id": "115065b7",
   "metadata": {},
   "outputs": [],
   "source": [
    "# Las variables aceptan todo tipo de dato.\n",
    "# Declarar una variable es crearla y asignarle un valor.\n",
    "\n",
    "# Declaro un par de variables.\n",
    "var1 = 56\n",
    "var2 = 'Esto es un texto'\n",
    "print(var1)"
   ]
  },
  {
   "cell_type": "code",
   "execution_count": null,
   "id": "52c9e9f5",
   "metadata": {},
   "outputs": [],
   "source": [
    "print(var2)\n",
    "var2 = 45\n",
    "print(var2)"
   ]
  },
  {
   "cell_type": "code",
   "execution_count": null,
   "id": "72555694",
   "metadata": {},
   "outputs": [],
   "source": [
    "# Le puedo asignar a una variable el contenido de otra variable\n",
    "var3 = var2\n",
    "print(var2)\n",
    "print(var3+5)"
   ]
  },
  {
   "cell_type": "code",
   "execution_count": null,
   "id": "6d5efc44",
   "metadata": {},
   "outputs": [],
   "source": [
    "# Asignación de valores en línea\n",
    "\n",
    "# Opción 1\n",
    "valor1,valor2,valor3 = 12,'Mate',33\n",
    "\n",
    "print(valor2)"
   ]
  },
  {
   "cell_type": "code",
   "execution_count": null,
   "id": "dbede114",
   "metadata": {},
   "outputs": [],
   "source": [
    "# Opción 2\n",
    "valor1 = valor2 = valor3 = 'Hola mundo'\n",
    "print(valor3)"
   ]
  },
  {
   "cell_type": "markdown",
   "id": "34f57c9f",
   "metadata": {},
   "source": [
    "### Función TYPE"
   ]
  },
  {
   "cell_type": "code",
   "execution_count": null,
   "id": "9ced04cd",
   "metadata": {},
   "outputs": [],
   "source": [
    "# Esta función me devuelve el tipo de dato con el que estoy trabajando\n",
    "a = 12\n",
    "b = 34.6\n",
    "c = 'Buen día'"
   ]
  },
  {
   "cell_type": "code",
   "execution_count": null,
   "id": "8ce19ef8",
   "metadata": {},
   "outputs": [],
   "source": [
    "print(type(a))\n",
    "print(type(b))\n",
    "print(type(c))"
   ]
  },
  {
   "cell_type": "markdown",
   "id": "46e32a01",
   "metadata": {},
   "source": [
    "***Tipo de datos***\n",
    "<br>\n",
    "* Numéricos.\n",
    "* Secuenciales\n",
    "* Mapeo\n",
    "* Colecciones\n",
    "* Texto\n",
    "* Booleanos"
   ]
  },
  {
   "cell_type": "code",
   "execution_count": null,
   "id": "8343629e",
   "metadata": {},
   "outputs": [],
   "source": [
    "# Arrastre de tipo de dato\n",
    "a = 12.6\n",
    "b = 2.4\n",
    "\n",
    "print(type(a+b))"
   ]
  },
  {
   "cell_type": "code",
   "execution_count": null,
   "id": "e5c5f74a",
   "metadata": {},
   "outputs": [],
   "source": [
    "# Complejos\n",
    "d = 2+5j\n",
    "print(d)\n",
    "print(type(d))"
   ]
  },
  {
   "cell_type": "code",
   "execution_count": null,
   "id": "7514618c",
   "metadata": {},
   "outputs": [],
   "source": [
    "# métodos de un dato complejo\n",
    "a = d.real\n",
    "print('La parte entera del complejo es: ',a)"
   ]
  },
  {
   "cell_type": "code",
   "execution_count": null,
   "id": "ba1f259f",
   "metadata": {},
   "outputs": [],
   "source": [
    "b = d.imag\n",
    "print('La parte imaginaria del complejo es: ',b)"
   ]
  },
  {
   "cell_type": "markdown",
   "id": "8891f51a",
   "metadata": {},
   "source": [
    "### Conversión de tipo de datos"
   ]
  },
  {
   "cell_type": "markdown",
   "id": "3a13b142",
   "metadata": {},
   "source": [
    "* int()\n",
    "* float()\n",
    "* complex()\n",
    "* list()\n",
    "* str()"
   ]
  },
  {
   "cell_type": "code",
   "execution_count": null,
   "id": "141a6109",
   "metadata": {},
   "outputs": [],
   "source": [
    "# ejemplo de conversión de tipo\n",
    "a = 4\n",
    "print(a)\n",
    "print(type(a))\n",
    "\n",
    "# Cambio el formato solo para la salida por pantalla\n",
    "print(float(a))\n",
    "\n",
    "# Puedo modificar el tipo directamente sobre la variable\n",
    "a = float(a)\n",
    "\n",
    "print(a)\n",
    "print(type(a))"
   ]
  },
  {
   "cell_type": "markdown",
   "id": "5e5e3891",
   "metadata": {},
   "source": [
    "### Operadores"
   ]
  },
  {
   "cell_type": "markdown",
   "id": "07b6d05f",
   "metadata": {},
   "source": [
    "* Suma (+)\n",
    "* Resta (-)\n",
    "* Negativo (-)\n",
    "* Multiplicación (*)\n",
    "* Exponente (**)\n",
    "* División (/)\n",
    "* División entera (//)\n",
    "* Resto de la división (%)\n",
    "* Operador de asifgnación (=)"
   ]
  },
  {
   "cell_type": "code",
   "execution_count": null,
   "id": "e476cdd6",
   "metadata": {},
   "outputs": [],
   "source": [
    "# ejemplo de uso de operadores\n",
    "# declaro mis variables\n",
    "v1 = 15\n",
    "v2 = 7"
   ]
  },
  {
   "cell_type": "code",
   "execution_count": null,
   "id": "2639fc6e",
   "metadata": {},
   "outputs": [],
   "source": [
    "# Suma\n",
    "suma = v1 + v2\n",
    "print(suma)"
   ]
  },
  {
   "cell_type": "code",
   "execution_count": null,
   "id": "f9e18871",
   "metadata": {},
   "outputs": [],
   "source": [
    "# Resto de la división\n",
    "a = 12\n",
    "resto = a%2\n",
    "print(resto)"
   ]
  },
  {
   "cell_type": "code",
   "execution_count": null,
   "id": "69aa5630",
   "metadata": {},
   "outputs": [],
   "source": [
    "# Tarea: probar todos los operadores"
   ]
  },
  {
   "cell_type": "markdown",
   "id": "516c538f",
   "metadata": {},
   "source": [
    "***Operadores relacionales***"
   ]
  },
  {
   "cell_type": "markdown",
   "id": "11109167",
   "metadata": {},
   "source": [
    "* Igual que (==)\n",
    "* Distinto que (!=)\n",
    "* Menor que (<)\n",
    "* Mayor que (>)\n",
    "* Menor o igual (<=)\n",
    "* Mayor o igual (>=)"
   ]
  },
  {
   "cell_type": "code",
   "execution_count": null,
   "id": "4b3ffd93",
   "metadata": {},
   "outputs": [],
   "source": [
    "# Igual que\n",
    "a = 3\n",
    "b = 4\n",
    "\n",
    "print(a==b)"
   ]
  },
  {
   "cell_type": "code",
   "execution_count": null,
   "id": "d632d0ef",
   "metadata": {},
   "outputs": [],
   "source": [
    "# Distinto que\n",
    "c = 'Rojo'\n",
    "d = 'Rojo'\n",
    "\n",
    "print(c!=d)"
   ]
  },
  {
   "cell_type": "code",
   "execution_count": null,
   "id": "2a9bdace",
   "metadata": {},
   "outputs": [],
   "source": [
    "# Menor\n",
    "a = 12\n",
    "f = 44\n",
    "print(a<f)"
   ]
  },
  {
   "cell_type": "markdown",
   "id": "3fa71b16",
   "metadata": {},
   "source": [
    "***Operadores lógicos***"
   ]
  },
  {
   "cell_type": "markdown",
   "id": "4dde842d",
   "metadata": {},
   "source": [
    "* and\n",
    "* or\n",
    "* NOT"
   ]
  },
  {
   "cell_type": "code",
   "execution_count": null,
   "id": "34399cde",
   "metadata": {},
   "outputs": [],
   "source": [
    "# Metodo Format\n",
    "nombre = 'Guillermo'\n",
    "curso = 'Java'\n",
    "print(\"Bienvenido {1} a la clase de {0}\".format(nombre,curso))"
   ]
  },
  {
   "cell_type": "code",
   "execution_count": null,
   "id": "7191541f",
   "metadata": {},
   "outputs": [],
   "source": [
    "# AND\n",
    "a = 3\n",
    "b = 10\n",
    "\n",
    "print(\"AND es Verdadero si y solo si, ambas expresiones son verdaderas: {}\".format(a==4 and b==10))"
   ]
  },
  {
   "cell_type": "code",
   "execution_count": null,
   "id": "9c400169",
   "metadata": {},
   "outputs": [],
   "source": [
    "# OR\n",
    "print(\"OR es Verdadero si al menos una de las expresiones, es verdadera: {}\".format(a==4 or b==1))"
   ]
  },
  {
   "cell_type": "code",
   "execution_count": null,
   "id": "1c3db48a",
   "metadata": {},
   "outputs": [],
   "source": [
    "# NOT\n",
    "g = 2\n",
    "print(\"NOT modifica el valor booleano de una expresión: {}\".format(not g==2))"
   ]
  },
  {
   "cell_type": "code",
   "execution_count": null,
   "id": "db74e7b2",
   "metadata": {},
   "outputs": [],
   "source": [
    "# Ejemplo de uso de AND con tres expresiones\n",
    "a = 3\n",
    "b = 4\n",
    "c = 5\n",
    "\n",
    "print(a==3 and b==4 and c==54)"
   ]
  },
  {
   "cell_type": "markdown",
   "id": "b2e6837e",
   "metadata": {},
   "source": [
    "### Ingreso de datos por teclado"
   ]
  },
  {
   "cell_type": "markdown",
   "id": "59ae0b4d",
   "metadata": {},
   "source": [
    "Para el ingreso de datos por teclado utilizamos la función INPUT"
   ]
  },
  {
   "cell_type": "code",
   "execution_count": null,
   "id": "e46a3b95",
   "metadata": {},
   "outputs": [],
   "source": [
    "# Pedimos ingresar un valor numérico\n",
    "a = int(input('Por favor ingrese un valor numérico: '))\n",
    "print(\"El valor ingresado por teclado es: {}\".format(a))\n",
    "print(type(a))"
   ]
  },
  {
   "cell_type": "markdown",
   "id": "177873a3",
   "metadata": {},
   "source": [
    "Ejercicio propuesto: Escribir un programa que solicite al usuario el valor del radio de un círculo y calcular la superficie. Mostrar el resultado por pantalla."
   ]
  },
  {
   "cell_type": "markdown",
   "id": "ddfe26eb",
   "metadata": {},
   "source": [
    "### Listas"
   ]
  },
  {
   "cell_type": "code",
   "execution_count": null,
   "id": "5d0ce656",
   "metadata": {},
   "outputs": [],
   "source": [
    "# Las listas me permiten almacenar diferentes tipos de datos bajo un mismo identificador\n",
    "# Cada valor almacenado, se denomina elemento. Deben ir separados por una coma.\n",
    "# Cada elemento está asociado a un índice. \n",
    "\n",
    "numeros = [1,2,3,4,5,6,7]\n",
    "print(numeros)\n",
    "\n",
    "print(type(numeros))\n",
    "\n",
    "print(numeros[2])"
   ]
  },
  {
   "cell_type": "code",
   "execution_count": null,
   "id": "6b253a3c",
   "metadata": {},
   "outputs": [],
   "source": [
    "# Las listas pueden contener elementos de diferentes tipos\n",
    "lista1 = [34,54,6.7,'Hola',56,[9,8,7]]\n",
    "print(lista1)"
   ]
  },
  {
   "cell_type": "code",
   "execution_count": null,
   "id": "8f749802",
   "metadata": {},
   "outputs": [],
   "source": [
    "print(lista1[5][1])"
   ]
  },
  {
   "cell_type": "markdown",
   "id": "c58552e5",
   "metadata": {},
   "source": [
    "***Función LEN***"
   ]
  },
  {
   "cell_type": "code",
   "execution_count": null,
   "id": "c00dc0f0",
   "metadata": {},
   "outputs": [],
   "source": [
    "# Me permite conocer la longitud de un conjunto de elementos.\n",
    "lista2 = [1,2,3,4,54,56,6]\n",
    "a = len(lista2)\n",
    "print('La lista tiene ',a,' elementos,')"
   ]
  },
  {
   "cell_type": "code",
   "execution_count": null,
   "id": "7c9fe920",
   "metadata": {},
   "outputs": [],
   "source": [
    "# Declaro una lista\n",
    "lista = [1,2,3,4]\n",
    "\n",
    "print(\"El rango de los índices va desde {}, hasta {}.\".format(0,len(lista)-1))"
   ]
  },
  {
   "cell_type": "code",
   "execution_count": null,
   "id": "0461f366",
   "metadata": {},
   "outputs": [],
   "source": [
    "# Las cadenas de texto son indexadas\n",
    "texto = 'Curso de Python'\n",
    "print(texto[3])"
   ]
  },
  {
   "cell_type": "markdown",
   "id": "7689b610",
   "metadata": {},
   "source": [
    "#### Métodos de las listas"
   ]
  },
  {
   "cell_type": "code",
   "execution_count": null,
   "id": "1348cadc",
   "metadata": {},
   "outputs": [],
   "source": [
    "# Método APPEND\n",
    "# Permite agregar un elemento al final de la lista.\n",
    "\n",
    "lista = [1,2,3,4,5,6]\n",
    "print(lista)\n",
    "\n",
    "lista.append('Guillermo')\n",
    "print(lista)"
   ]
  },
  {
   "cell_type": "code",
   "execution_count": null,
   "id": "6698028a",
   "metadata": {},
   "outputs": [],
   "source": [
    "# Método COUNT\n",
    "# Cuenta las veces que aparece un elemento dentro de una lista\n",
    "\n",
    "lista = [1,1,1,2,3,4,5,6,77,7,7,7,7,7,7]\n",
    "a = lista.count(7)\n",
    "print(a)"
   ]
  },
  {
   "cell_type": "code",
   "execution_count": null,
   "id": "8dcfde8e",
   "metadata": {},
   "outputs": [],
   "source": [
    "# Método INDEX\n",
    "# Devuelve el índice que tiene un determinado elemento\n",
    "# en caso de estar repetido, me devuelve el índice de la primer ocurrencia\n",
    "print(lista.index(5))"
   ]
  },
  {
   "cell_type": "code",
   "execution_count": null,
   "id": "bcae4305",
   "metadata": {},
   "outputs": [],
   "source": [
    "# Método INSERT\n",
    "# Permite insertar un nuevo elemento en una determinada posición\n",
    "numeros = [5,1,8,3]\n",
    "print(numeros)\n",
    "\n",
    "numeros.insert(0,'Hola')\n",
    "print(numeros)"
   ]
  },
  {
   "cell_type": "code",
   "execution_count": null,
   "id": "f5487485",
   "metadata": {},
   "outputs": [],
   "source": [
    "# Método POP\n",
    "lista = [1,2,3,4,5,6]\n",
    "print(lista)\n",
    "\n",
    "a = lista.pop()\n",
    "\n",
    "print(lista)\n",
    "print(a)"
   ]
  },
  {
   "cell_type": "code",
   "execution_count": null,
   "id": "e521fc03",
   "metadata": {},
   "outputs": [],
   "source": [
    "# Método REMOVE\n",
    "lista = [1,2,3,4,5,6,7,5]\n",
    "print(lista)\n",
    "\n",
    "lista.remove(5)\n",
    "print(lista)"
   ]
  },
  {
   "cell_type": "code",
   "execution_count": null,
   "id": "2645e526",
   "metadata": {},
   "outputs": [],
   "source": [
    "# Método REVERSE\n",
    "# Invierte el orden de los elementos de una lista\n",
    "num = [1,2,3,4,5,6]\n",
    "print(num)\n",
    "\n",
    "num.reverse()\n",
    "print(num)"
   ]
  },
  {
   "cell_type": "code",
   "execution_count": null,
   "id": "0caac85d",
   "metadata": {},
   "outputs": [],
   "source": [
    "# Método SORT\n",
    "# Ordena los elementos de una lista\n",
    "lista = [23,6,0,12,33,8]\n",
    "print(lista)\n",
    "\n",
    "# Ordenamos con SORT de menor a mayor\n",
    "lista.sort()\n",
    "print(lista)\n",
    "\n",
    "# Ordenamos de mayor a menor\n",
    "lista.sort(reverse=True)\n",
    "print(lista)"
   ]
  },
  {
   "cell_type": "markdown",
   "id": "54296142",
   "metadata": {},
   "source": [
    "### Estructuras."
   ]
  },
  {
   "cell_type": "code",
   "execution_count": null,
   "id": "f54a9195",
   "metadata": {},
   "outputs": [],
   "source": [
    "# Condicional IF\n",
    "a = 7\n",
    "if a==7:\n",
    "    print(\"La variable a es igual a 7\")\n",
    "    \n",
    "print(\"Fin del ejemplo\")"
   ]
  },
  {
   "cell_type": "code",
   "execution_count": null,
   "id": "df6ae188",
   "metadata": {},
   "outputs": [],
   "source": [
    "# Estructura IF con ELSE\n",
    "dia = 'lunes'\n",
    "\n",
    "if dia == 'domingo':\n",
    "    print('Descanso')\n",
    "    print(\"La condición resultó Verdadera\")\n",
    "else:\n",
    "    print('Trabajo')\n",
    "    print(\"La condición resultó Falsa\")\n",
    "    \n",
    "print('Fin del ejemplo')"
   ]
  },
  {
   "cell_type": "code",
   "execution_count": null,
   "id": "c7627e8a",
   "metadata": {},
   "outputs": [],
   "source": [
    "# Estructura IF / ELIF / ELSE\n",
    "var = 33\n",
    "\n",
    "if var<0:\n",
    "    print(\"el valor de la variable es menor que cero.\")\n",
    "elif var>=0 and var<=10:\n",
    "    print(\"El valor de la variable está entre 0 y 10\")\n",
    "else:\n",
    "    print(\"El valor de la variable es mayor que 10\")"
   ]
  },
  {
   "cell_type": "markdown",
   "id": "c9f71480",
   "metadata": {},
   "source": [
    "***Evaluamos las variables***"
   ]
  },
  {
   "cell_type": "code",
   "execution_count": null,
   "id": "a3703cf9",
   "metadata": {},
   "outputs": [],
   "source": [
    "var = \" \"\n",
    "\n",
    "if var:\n",
    "    print(\"Verdadero\")\n",
    "else:\n",
    "    print(\"Falso\")"
   ]
  },
  {
   "cell_type": "markdown",
   "id": "91e02827",
   "metadata": {},
   "source": [
    "***Operadores de pertenencia***"
   ]
  },
  {
   "cell_type": "code",
   "execution_count": null,
   "id": "08484f0f",
   "metadata": {},
   "outputs": [],
   "source": [
    "# IN / NOT IN\n",
    "valor = 4\n",
    "lista = [1,2,3,4,5,6]\n",
    "\n",
    "if valor not in lista:\n",
    "    print(\"Verdadero\")\n",
    "else:\n",
    "    print(\"Falso\")"
   ]
  },
  {
   "cell_type": "markdown",
   "id": "cdd877bc",
   "metadata": {},
   "source": [
    "Escribir un código que solicite por teclado un valor numérico entero y devuelva un mensaje indicando si el valor es PAR o IMPAR."
   ]
  },
  {
   "cell_type": "code",
   "execution_count": null,
   "id": "653a1a1f",
   "metadata": {},
   "outputs": [],
   "source": [
    "numero = int(input(\"Ingrese un valor numérico entero: \"))\n",
    "resto = numero%2\n",
    "\n",
    "if resto==0:\n",
    "    print(\"El número es PAR\")\n",
    "else:\n",
    "    print(\"El número es IMPAR\")"
   ]
  },
  {
   "cell_type": "markdown",
   "id": "615d300c",
   "metadata": {},
   "source": [
    "***Estructura While***"
   ]
  },
  {
   "cell_type": "code",
   "execution_count": null,
   "id": "89f4b18a",
   "metadata": {},
   "outputs": [],
   "source": [
    "contador = 12\n",
    "\n",
    "while contador<=5:\n",
    "    print(\"Valor de mi contador: {}\".format(contador))\n",
    "    contador = contador + 1\n",
    "    \n",
    "print(\"Fin del ciclo While\")\n",
    "print(\"Valor del contador\",contador)\n",
    "\n"
   ]
  },
  {
   "cell_type": "code",
   "execution_count": null,
   "id": "aba7359e",
   "metadata": {},
   "outputs": [],
   "source": [
    "# Ejemplo de Do While en Python\n",
    "contador = 0\n",
    "\n",
    "while True:\n",
    "    contador = contador + 1\n",
    "    print(\"Valor del contador: {}\".format(contador))\n",
    "    if contador == 6:\n",
    "        break\n",
    "        \n",
    "print(\"Fin del ciclo\")"
   ]
  },
  {
   "cell_type": "markdown",
   "id": "f8c14eee",
   "metadata": {},
   "source": [
    "***Ejercicio en clase***"
   ]
  },
  {
   "cell_type": "code",
   "execution_count": null,
   "id": "4720653f",
   "metadata": {},
   "outputs": [],
   "source": [
    "notas = []\n",
    "nota = 0\n",
    "\n",
    "while nota != -1:\n",
    "    nota=int(input(\"Ingrese nota de 1 a 10 o -1 para finalizar.\"))\n",
    "    if nota==-1:\n",
    "        break\n",
    "    notas.append(nota)\n",
    "    \n",
    "print(\"Notas ingresadas: \",notas)\n",
    "print(\"Suma de las notas ingresadas: {}\".format(sum(notas)))\n",
    "print(\"Promedio de las notas ingresadas: {}\".format(sum(notas)/len(notas)))"
   ]
  },
  {
   "cell_type": "markdown",
   "id": "6ed50a18",
   "metadata": {},
   "source": [
    "***Estructura FOR***"
   ]
  },
  {
   "cell_type": "code",
   "execution_count": null,
   "id": "35fd7bc6",
   "metadata": {},
   "outputs": [],
   "source": [
    "# Estructura de repetición\n",
    "lista = [1,2,3,4,5,6]\n",
    "\n",
    "for x in lista:\n",
    "    print(\"El valor {} del iterador multiplicado por 10 es: {}\".format(x,x*10))\n",
    "    \n",
    "print(\"Fin del ciclo\")"
   ]
  },
  {
   "cell_type": "code",
   "execution_count": null,
   "id": "5410ccae",
   "metadata": {},
   "outputs": [],
   "source": [
    "# Rangos usando FOR\n",
    "for valor in range(1,6):\n",
    "    print(valor)"
   ]
  },
  {
   "cell_type": "code",
   "execution_count": null,
   "id": "caf1f87d",
   "metadata": {},
   "outputs": [],
   "source": [
    "# Range con un argumento\n",
    "for x in range(3):\n",
    "    print(x)"
   ]
  },
  {
   "cell_type": "code",
   "execution_count": null,
   "id": "cd627c5c",
   "metadata": {},
   "outputs": [],
   "source": [
    "# Otro ejemplo de FOR\n",
    "for x in range(1,11,2):\n",
    "    print(x)"
   ]
  },
  {
   "cell_type": "code",
   "execution_count": null,
   "id": "2712e076",
   "metadata": {},
   "outputs": [],
   "source": [
    "# For invertido\n",
    "for x in range(11,1,-1):\n",
    "    print(x)"
   ]
  },
  {
   "cell_type": "code",
   "execution_count": null,
   "id": "f365ec9f",
   "metadata": {},
   "outputs": [],
   "source": [
    "lista = []\n",
    "for x in range(1,11):\n",
    "    x = x*2\n",
    "    lista.append(x)\n",
    "    \n",
    "print(lista)"
   ]
  },
  {
   "cell_type": "markdown",
   "id": "0f450b53",
   "metadata": {},
   "source": [
    "***Cadenas de caracteres***"
   ]
  },
  {
   "cell_type": "code",
   "execution_count": null,
   "id": "74b6fe6f",
   "metadata": {},
   "outputs": [],
   "source": [
    "# mostrar comillas en mi texto\n",
    "print(\"Esto recién 'empieza', ahora viene lo mejor\")\n",
    "print('Ya \"falta\" menos')"
   ]
  },
  {
   "cell_type": "code",
   "execution_count": null,
   "id": "79ea9646",
   "metadata": {},
   "outputs": [],
   "source": [
    "# Caracter de escape\n",
    "print(\"Este caracter de \\\"escape\\\" está en casi todos los lenguajes\")"
   ]
  },
  {
   "cell_type": "code",
   "execution_count": null,
   "id": "803fb57f",
   "metadata": {},
   "outputs": [],
   "source": [
    "texto = \"Curso de Python\"\n",
    "print(texto[0])"
   ]
  },
  {
   "cell_type": "code",
   "execution_count": null,
   "id": "549a16bc",
   "metadata": {},
   "outputs": [],
   "source": [
    "# Suma\n",
    "a = \"Curso\"\n",
    "b = \"Python\"\n",
    "print(\"La suma entre {} y {} es: {}\".format(a,b,a+b))"
   ]
  },
  {
   "cell_type": "code",
   "execution_count": null,
   "id": "c1d4b6c5",
   "metadata": {},
   "outputs": [],
   "source": [
    "# Multiplicar\n",
    "print(\"Hola\" * 3)"
   ]
  },
  {
   "cell_type": "code",
   "execution_count": null,
   "id": "cbc06342",
   "metadata": {},
   "outputs": [],
   "source": [
    "# Join\n",
    "print(' '.join([a,b]))"
   ]
  },
  {
   "cell_type": "code",
   "execution_count": null,
   "id": "3098e4c0",
   "metadata": {},
   "outputs": [],
   "source": [
    "# Strip\n",
    "a = \"    Curso Python % # $\"\n",
    "print(a)\n",
    "print(a.strip())\n",
    "print(a.strip('% # $'))"
   ]
  },
  {
   "cell_type": "code",
   "execution_count": null,
   "id": "85704dd8",
   "metadata": {},
   "outputs": [],
   "source": [
    "# SPLIT\n",
    "a = \"Guillermo,Alfaro,Profesor\"\n",
    "#print(a.split(','))\n",
    "\n",
    "b = a.split(',')\n",
    "print(b)"
   ]
  },
  {
   "cell_type": "code",
   "execution_count": null,
   "id": "a4281e95",
   "metadata": {},
   "outputs": [],
   "source": [
    "# UPPER - LOWER\n",
    "a = \"Hola\"\n",
    "b = \"Mundo\"\n",
    "\n",
    "print(\"Todo a mayúsculas: {}\".format(a.upper()))\n",
    "print(\"Todo a minúsculas: {}\".format(b.lower()))"
   ]
  },
  {
   "cell_type": "code",
   "execution_count": null,
   "id": "b5203814",
   "metadata": {},
   "outputs": [],
   "source": [
    "# SPLIT\n",
    "a = \"Guillermo|Alfaro|Profesor\"\n",
    "#print(a.split('|'))\n",
    "\n",
    "b = a.split('|')\n",
    "print(b)"
   ]
  },
  {
   "cell_type": "markdown",
   "id": "a254b55c",
   "metadata": {},
   "source": [
    "### Manejo básico de fechas."
   ]
  },
  {
   "cell_type": "code",
   "execution_count": null,
   "id": "ae0303dd",
   "metadata": {},
   "outputs": [],
   "source": [
    "from datetime import datetime"
   ]
  },
  {
   "cell_type": "code",
   "execution_count": null,
   "id": "7095e3dc",
   "metadata": {},
   "outputs": [],
   "source": [
    "fecha = datetime.now()\n",
    "print(fecha)"
   ]
  },
  {
   "cell_type": "code",
   "execution_count": null,
   "id": "99b00dee",
   "metadata": {},
   "outputs": [],
   "source": [
    "print(fecha.year)\n",
    "print(fecha.month)\n",
    "print(fecha.day)\n",
    "print(fecha.hour)\n",
    "print(fecha.minute)\n",
    "print(fecha.second)\n",
    "print(fecha.microsecond)"
   ]
  },
  {
   "cell_type": "code",
   "execution_count": null,
   "id": "e4e1892f",
   "metadata": {},
   "outputs": [],
   "source": [
    "print(\"{}/{}/{}\".format(fecha.day,fecha.month,fecha.year))"
   ]
  },
  {
   "cell_type": "markdown",
   "id": "ad44f9b9",
   "metadata": {},
   "source": [
    "### Funciones"
   ]
  },
  {
   "cell_type": "code",
   "execution_count": null,
   "id": "ae3f5531",
   "metadata": {},
   "outputs": [],
   "source": [
    "# Declaración de funciones.\n",
    "def nombreFuncion():\n",
    "    \"Acá va todo el código de mi función\""
   ]
  },
  {
   "cell_type": "code",
   "execution_count": null,
   "id": "a963ef5a",
   "metadata": {},
   "outputs": [],
   "source": [
    "# ejemplo 1\n",
    "def suma():\n",
    "    a=12\n",
    "    b=7\n",
    "    print(\"La suma de {} y {} es: {}\".format(a,b,a+b))\n",
    "    # fin de mi función."
   ]
  },
  {
   "cell_type": "code",
   "execution_count": null,
   "id": "806c5c4d",
   "metadata": {},
   "outputs": [],
   "source": [
    "suma()"
   ]
  },
  {
   "cell_type": "code",
   "execution_count": null,
   "id": "6f14ebf0",
   "metadata": {},
   "outputs": [],
   "source": [
    "# Pasaje de parámetros\n",
    "def suma(x,y):\n",
    "    res=x+y\n",
    "    print(\"Resultado de la suma: {}\".format(res))"
   ]
  },
  {
   "cell_type": "code",
   "execution_count": null,
   "id": "95788957",
   "metadata": {},
   "outputs": [],
   "source": [
    "suma(20,32)"
   ]
  },
  {
   "cell_type": "code",
   "execution_count": null,
   "id": "688877d8",
   "metadata": {},
   "outputs": [],
   "source": [
    "# Ejemplo\n",
    "def mostrar(a,b):\n",
    "    print(\"a= {} \\nb = {}\".format(a,b))"
   ]
  },
  {
   "cell_type": "code",
   "execution_count": null,
   "id": "a2642b42",
   "metadata": {},
   "outputs": [],
   "source": [
    "mostrar(b=\"Curso\",a=\"Python\")"
   ]
  },
  {
   "cell_type": "code",
   "execution_count": 1,
   "id": "671e5eef",
   "metadata": {},
   "outputs": [
    {
     "name": "stdout",
     "output_type": "stream",
     "text": [
      "suma:  0\n"
     ]
    }
   ],
   "source": [
    "# \n",
    "def suma(a=0,b=0,control=False):\n",
    "    if control:\n",
    "        print(\"suma: \",a+b)\n",
    "    else:\n",
    "        print(\"suma: \",a+b)\n",
    "        \n",
    "suma()\n",
    "    "
   ]
  },
  {
   "cell_type": "code",
   "execution_count": 4,
   "id": "3c2d0498",
   "metadata": {},
   "outputs": [
    {
     "name": "stdout",
     "output_type": "stream",
     "text": [
      "[1, 2, 3]\n",
      "['b', 2, 3]\n"
     ]
    }
   ],
   "source": [
    "# Ejemplo 1: si el tipo de dato es mutable, el pasaje es por referencia.\n",
    "def usoLista(a):\n",
    "    a[0]='b'\n",
    "    \n",
    "# Creo una lista\n",
    "lista = [1,2,3]\n",
    "print(lista)\n",
    "\n",
    "# Invoco la función\n",
    "usoLista(lista)\n",
    "\n",
    "# Verifico como quedo la lista original\n",
    "print(lista)"
   ]
  },
  {
   "cell_type": "code",
   "execution_count": 7,
   "id": "56e230c8",
   "metadata": {},
   "outputs": [
    {
     "name": "stdout",
     "output_type": "stream",
     "text": [
      "20\n",
      "20\n"
     ]
    }
   ],
   "source": [
    "# Ejemplo 2: si el tipo de dato es nmutable, el pasaje es por valor\n",
    "def usoVariable(b):\n",
    "    b = b*3\n",
    "    \n",
    "#Declaro una variable\n",
    "a = 20\n",
    "print(a)\n",
    "\n",
    "# Invoco la función.\n",
    "usoVariable(a)\n",
    "print(a)"
   ]
  },
  {
   "cell_type": "code",
   "execution_count": 12,
   "id": "fed3edb8",
   "metadata": {},
   "outputs": [],
   "source": [
    "# Argumentos de largo variable\n",
    "# Ejemplo con *\n",
    "\n",
    "def miFuncion(*valores):\n",
    "    for x in valores:\n",
    "        print(x*2)"
   ]
  },
  {
   "cell_type": "code",
   "execution_count": 13,
   "id": "2f413477",
   "metadata": {},
   "outputs": [
    {
     "name": "stdout",
     "output_type": "stream",
     "text": [
      "2\n",
      "4\n",
      "12\n"
     ]
    }
   ],
   "source": [
    "miFuncion(1,2,6)"
   ]
  },
  {
   "cell_type": "code",
   "execution_count": 14,
   "id": "8eb5f271",
   "metadata": {},
   "outputs": [],
   "source": [
    "# Ejemplo con **\n",
    "def miFuncion(**valores):\n",
    "    print(valores)\n"
   ]
  },
  {
   "cell_type": "code",
   "execution_count": 16,
   "id": "3655391f",
   "metadata": {},
   "outputs": [
    {
     "name": "stdout",
     "output_type": "stream",
     "text": [
      "{}\n"
     ]
    }
   ],
   "source": [
    "miFuncion()"
   ]
  },
  {
   "cell_type": "code",
   "execution_count": 17,
   "id": "925e1333",
   "metadata": {},
   "outputs": [],
   "source": [
    "# Combino ambos métodos\n",
    "def cliente(nombre,apellido,**datos):\n",
    "    print(\"Nombre: {}\".format(nombre))\n",
    "    print(\"Apellido: {}\".format(apellido))\n",
    "    for x in datos:\n",
    "        print(\"{}: {}\".format(x,datos[x]))"
   ]
  },
  {
   "cell_type": "code",
   "execution_count": 18,
   "id": "c88d8a00",
   "metadata": {},
   "outputs": [
    {
     "name": "stdout",
     "output_type": "stream",
     "text": [
      "Nombre: Guillermo\n",
      "Apellido: Alfaro\n",
      "Edad: 53\n",
      "Pcia: Bs.As\n",
      "\n",
      "Nombre: Pedro\n",
      "Apellido: Gutierrez\n",
      "Edad: 45\n",
      "DNI: 123456\n"
     ]
    }
   ],
   "source": [
    "cliente(\"Guillermo\",\"Alfaro\",Edad=53,Pcia=\"Bs.As\")\n",
    "print()\n",
    "cliente(\"Pedro\",\"Gutierrez\",Edad=45,DNI=123456)"
   ]
  },
  {
   "cell_type": "markdown",
   "id": "ae880098",
   "metadata": {},
   "source": [
    "### Desempaquetado de argumentos."
   ]
  },
  {
   "cell_type": "code",
   "execution_count": 24,
   "id": "89d5aa8d",
   "metadata": {},
   "outputs": [
    {
     "name": "stdout",
     "output_type": "stream",
     "text": [
      "4 5 6\n"
     ]
    }
   ],
   "source": [
    "def miFuncion(a=0,b=0,c=0):\n",
    "    print(a,b,c)\n",
    "    \n",
    "lista = [4,5,6]\n",
    "miFuncion(*lista)"
   ]
  },
  {
   "cell_type": "code",
   "execution_count": 23,
   "id": "26d48708",
   "metadata": {},
   "outputs": [
    {
     "name": "stdout",
     "output_type": "stream",
     "text": [
      "1 0 3\n"
     ]
    }
   ],
   "source": [
    "diccionario = {'a':1,'c':3}\n",
    "miFuncion(**diccionario)"
   ]
  },
  {
   "cell_type": "code",
   "execution_count": null,
   "id": "4d525eb2",
   "metadata": {},
   "outputs": [],
   "source": []
  }
 ],
 "metadata": {
  "kernelspec": {
   "display_name": "Python 3 (ipykernel)",
   "language": "python",
   "name": "python3"
  },
  "language_info": {
   "codemirror_mode": {
    "name": "ipython",
    "version": 3
   },
   "file_extension": ".py",
   "mimetype": "text/x-python",
   "name": "python",
   "nbconvert_exporter": "python",
   "pygments_lexer": "ipython3",
   "version": "3.10.9"
  }
 },
 "nbformat": 4,
 "nbformat_minor": 5
}
